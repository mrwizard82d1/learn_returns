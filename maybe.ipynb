{
 "cells": [
  {
   "cell_type": "markdown",
   "metadata": {
    "collapsed": true,
    "pycharm": {
     "name": "#%% md\n"
    }
   },
   "source": [
    "The `Maybe` container is used when a series of computations could return `None` at any point."
   ]
  },
  {
   "cell_type": "code",
   "execution_count": 1,
   "outputs": [],
   "source": [
    "from typing import Any\n",
    "\n",
    "from returns.maybe import Maybe, Some, Nothing, maybe\n",
    "\n",
    "import toolz.curried as toolz"
   ],
   "metadata": {
    "collapsed": false,
    "pycharm": {
     "name": "#%%\n"
    }
   }
  },
  {
   "cell_type": "markdown",
   "source": [
    "The `from_optional()` factory method returns one of two types: `Some` and `Nothing`."
   ],
   "metadata": {
    "collapsed": false,
    "pycharm": {
     "name": "#%% md\n"
    }
   }
  },
  {
   "cell_type": "code",
   "execution_count": 2,
   "outputs": [],
   "source": [
    "assert str(Maybe.from_optional(1)) == '<Some: 1>'\n",
    "assert str(Maybe.from_optional(None)) == '<Nothing>'"
   ],
   "metadata": {
    "collapsed": false,
    "pycharm": {
     "name": "#%%\n"
    }
   }
  },
  {
   "cell_type": "markdown",
   "source": [
    "The `from_value()` factory method behaves a bit differently allowing its returned value to be `Some(None)`."
   ],
   "metadata": {
    "collapsed": false,
    "pycharm": {
     "name": "#%% md\n"
    }
   }
  },
  {
   "cell_type": "code",
   "execution_count": 3,
   "outputs": [],
   "source": [
    "assert str(Maybe.from_value(1)) == '<Some: 1>'\n",
    "assert str(Maybe.from_value(None)) == '<Some: None>'"
   ],
   "metadata": {
    "collapsed": false,
    "pycharm": {
     "name": "#%%\n"
    }
   }
  },
  {
   "cell_type": "code",
   "execution_count": 4,
   "outputs": [],
   "source": [
    "from attr import dataclass\n",
    "from typing import Optional"
   ],
   "metadata": {
    "collapsed": false,
    "pycharm": {
     "name": "#%%\n"
    }
   }
  },
  {
   "cell_type": "code",
   "execution_count": 5,
   "outputs": [],
   "source": [
    "@dataclass\n",
    "class Address:\n",
    "    street: Optional[str]\n",
    "\n",
    "@dataclass\n",
    "class User:\n",
    "    address: Optional[Address]\n",
    "\n",
    "@dataclass\n",
    "class Order:\n",
    "    user: Optional[User]"
   ],
   "metadata": {
    "collapsed": false,
    "pycharm": {
     "name": "#%%\n"
    }
   }
  },
  {
   "cell_type": "code",
   "execution_count": 6,
   "outputs": [],
   "source": [
    "def get_street_address(order: Order) -> Maybe[str]:\n",
    "    return Maybe.from_optional(order.user)\\\n",
    "        .bind_optional(lambda user: user.address)\\\n",
    "        .bind_optional(lambda address: address.street)"
   ],
   "metadata": {
    "collapsed": false,
    "pycharm": {
     "name": "#%%\n"
    }
   }
  },
  {
   "cell_type": "code",
   "execution_count": 7,
   "outputs": [],
   "source": [
    "with_address = Order(User(Address('9999 Some street')))\n",
    "empty_user = Order(None)\n",
    "empty_address = Order(User(None))\n",
    "empty_street = Order(User(Address(None)))"
   ],
   "metadata": {
    "collapsed": false,
    "pycharm": {
     "name": "#%%\n"
    }
   }
  },
  {
   "cell_type": "code",
   "execution_count": 8,
   "outputs": [
    {
     "data": {
      "text/plain": "'<Some: 9999 Some street>'"
     },
     "execution_count": 8,
     "metadata": {},
     "output_type": "execute_result"
    }
   ],
   "source": [
    "str(get_street_address(with_address))"
   ],
   "metadata": {
    "collapsed": false,
    "pycharm": {
     "name": "#%%\n"
    }
   }
  },
  {
   "cell_type": "code",
   "execution_count": 9,
   "outputs": [],
   "source": [
    "assert get_street_address(empty_user) == Nothing\n",
    "assert get_street_address(empty_address) == Nothing\n",
    "assert get_street_address(empty_street) == Nothing"
   ],
   "metadata": {
    "collapsed": false,
    "pycharm": {
     "name": "#%%\n"
    }
   }
  },
  {
   "cell_type": "markdown",
   "source": [
    "The `maybe` decorator"
   ],
   "metadata": {
    "collapsed": false,
    "pycharm": {
     "name": "#%% md\n"
    }
   }
  },
  {
   "cell_type": "code",
   "execution_count": 10,
   "outputs": [],
   "source": [
    "@maybe\n",
    "def number(num: int) -> Optional[int]:\n",
    "    if num > 0:\n",
    "        return num\n",
    "    else:\n",
    "        return None\n",
    "\n",
    "result: Maybe[int] = number(1)\n",
    "assert result == Some(1)"
   ],
   "metadata": {
    "collapsed": false,
    "pycharm": {
     "name": "#%%\n"
    }
   }
  },
  {
   "cell_type": "markdown",
   "source": [
    "Why `Maybe` does not have an `alt` method?\n",
    "\n",
    "Well, because `Maybe` only has a single failed value: `Nothing` and it cannot be altered.\n",
    "\n",
    "But, `Maybe` has a `or_else_call()` method to invoke a callback function with no arguments on a `Nothing`\n",
    "container.\n",
    "\n",
    "This method is unique to the `Maybe` container."
   ],
   "metadata": {
    "collapsed": false,
    "pycharm": {
     "name": "#%% md\n"
    }
   }
  },
  {
   "cell_type": "code",
   "execution_count": 13,
   "outputs": [],
   "source": [
    "assert Some(1).or_else_call(lambda: 2) == 1\n",
    "assert Nothing.or_else_call(lambda: 2) == 2"
   ],
   "metadata": {
    "collapsed": false,
    "pycharm": {
     "name": "#%%\n"
    }
   }
  }
 ],
 "metadata": {
  "kernelspec": {
   "display_name": "Python 3",
   "language": "python",
   "name": "python3"
  },
  "language_info": {
   "codemirror_mode": {
    "name": "ipython",
    "version": 2
   },
   "file_extension": ".py",
   "mimetype": "text/x-python",
   "name": "python",
   "nbconvert_exporter": "python",
   "pygments_lexer": "ipython2",
   "version": "2.7.6"
  }
 },
 "nbformat": 4,
 "nbformat_minor": 0
}